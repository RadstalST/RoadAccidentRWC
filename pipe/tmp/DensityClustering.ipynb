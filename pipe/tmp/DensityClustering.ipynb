{
 "cells": [
  {
   "cell_type": "code",
   "execution_count": 1,
   "id": "a7cd8f2e",
   "metadata": {
    "execution": {
     "iopub.execute_input": "2023-08-23T05:46:33.054199Z",
     "iopub.status.busy": "2023-08-23T05:46:33.053845Z",
     "iopub.status.idle": "2023-08-23T05:46:33.062848Z",
     "shell.execute_reply": "2023-08-23T05:46:33.062150Z"
    },
    "papermill": {
     "duration": 0.015309,
     "end_time": "2023-08-23T05:46:33.064848",
     "exception": false,
     "start_time": "2023-08-23T05:46:33.049539",
     "status": "completed"
    },
    "tags": [
     "parameters"
    ]
   },
   "outputs": [],
   "source": [
    "output_directory = \"./tmp/\"\n",
    "input_file = \"./tmp/\""
   ]
  },
  {
   "cell_type": "code",
   "execution_count": 2,
   "id": "3083dec7",
   "metadata": {
    "execution": {
     "iopub.execute_input": "2023-08-23T05:46:33.070686Z",
     "iopub.status.busy": "2023-08-23T05:46:33.070156Z",
     "iopub.status.idle": "2023-08-23T05:46:33.073892Z",
     "shell.execute_reply": "2023-08-23T05:46:33.073195Z"
    },
    "papermill": {
     "duration": 0.007973,
     "end_time": "2023-08-23T05:46:33.075332",
     "exception": false,
     "start_time": "2023-08-23T05:46:33.067359",
     "status": "completed"
    },
    "tags": [
     "injected-parameters"
    ]
   },
   "outputs": [],
   "source": [
    "# Parameters\n",
    "output_directory = \"pipe/tmp\"\n",
    "input_file = \"pipe/assets/iris.csv\"\n"
   ]
  },
  {
   "cell_type": "code",
   "execution_count": 3,
   "id": "73b8832d",
   "metadata": {
    "execution": {
     "iopub.execute_input": "2023-08-23T05:46:33.079852Z",
     "iopub.status.busy": "2023-08-23T05:46:33.079428Z",
     "iopub.status.idle": "2023-08-23T05:46:33.082841Z",
     "shell.execute_reply": "2023-08-23T05:46:33.082280Z"
    },
    "papermill": {
     "duration": 0.007609,
     "end_time": "2023-08-23T05:46:33.084231",
     "exception": false,
     "start_time": "2023-08-23T05:46:33.076622",
     "status": "completed"
    },
    "tags": []
   },
   "outputs": [
    {
     "name": "stdout",
     "output_type": "stream",
     "text": [
      "Hello World\n",
      "pipe/tmp pipe/assets/iris.csv\n"
     ]
    }
   ],
   "source": [
    "print(\"Hello World\")\n",
    "print(output_directory, input_file)"
   ]
  },
  {
   "cell_type": "code",
   "execution_count": null,
   "id": "2c188d91",
   "metadata": {
    "papermill": {
     "duration": 0.001053,
     "end_time": "2023-08-23T05:46:33.086500",
     "exception": false,
     "start_time": "2023-08-23T05:46:33.085447",
     "status": "completed"
    },
    "tags": []
   },
   "outputs": [],
   "source": []
  }
 ],
 "metadata": {
  "kernelspec": {
   "display_name": "Python 3",
   "language": "python",
   "name": "python3"
  },
  "language_info": {
   "codemirror_mode": {
    "name": "ipython",
    "version": 3
   },
   "file_extension": ".py",
   "mimetype": "text/x-python",
   "name": "python",
   "nbconvert_exporter": "python",
   "pygments_lexer": "ipython3",
   "version": "3.10.11"
  },
  "papermill": {
   "default_parameters": {},
   "duration": 1.659799,
   "end_time": "2023-08-23T05:46:33.204941",
   "environment_variables": {},
   "exception": null,
   "input_path": "assets/DensityClustering.ipynb",
   "output_path": "tmp/DensityClustering.ipynb",
   "parameters": {
    "input_file": "pipe/assets/iris.csv",
    "output_directory": "pipe/tmp"
   },
   "start_time": "2023-08-23T05:46:31.545142",
   "version": "2.4.0"
  }
 },
 "nbformat": 4,
 "nbformat_minor": 5
}